{
 "cells": [
  {
   "cell_type": "markdown",
   "metadata": {},
   "source": [
    "# Wide and Deep Networks\n",
    "\n",
    "Nick Chao"
   ]
  },
  {
   "cell_type": "markdown",
   "metadata": {},
   "source": [
    "### Preparation (40 points total)\n",
    "[10 points] Define and prepare your class variables. Use proper variable representations (int, float, one-hot, etc.). Use pre-processing methods (as needed) for dimensionality reduction, scaling, etc. Remove variables that are not needed/useful for the analysis. Describe the final dataset that is used for classification/regression (include a description of any newly formed variables you created). \n",
    "\n",
    "[10 points] Identify groups of features in your data that should be combined into cross-product features. Provide justification for why these features should be crossed (or why some features should not be crossed). \n",
    "\n",
    "[10 points] Choose and explain what metric(s) you will use to evaluate your algorithm’s performance. You should give a detailed argument for why this (these) metric(s) are appropriate on your data. That is, why is the metric appropriate for the task (e.g., in terms of the business case for the task). Please note: rarely is accuracy the best evaluation metric to use. Think deeply about an appropriate measure of performance.\n",
    "\n",
    "[10 points] Choose the method you will use for dividing your data into training and testing (i.e., are you using Stratified 10-fold cross validation? Shuffle splits? Why?). Explain why your chosen method is appropriate or use more than one method as appropriate. Convince me that your cross validation method is a realistic mirroring of how an algorithm would be used in practice. \n",
    "\n",
    "### Modeling (50 points total)\n",
    "[20 points] Create several combined wide and deep networks to classify your data using Keras. Visualize the performance of the network on the training data and validation data in the same plot versus the training iterations. Try to use the \"history\" return parameter that is part of Keras \"fit\" function.\n",
    "\n",
    "[20 points] Investigate generalization performance by altering the number of layers in the deep branch of the network. Try at least two different number of layers. Use the method of cross validation and evaluation metric that you argued for at the beginning of the lab. \n",
    "\n",
    "[10 points] Compare the performance of your best wide and deep network to a standard multi-layer perceptron (MLP) using the receiver operating characteristic and area under the curve.  Use proper statistical method to compare the performance of different models.  \n",
    "\n",
    "### Exceptional Work (10 points total)\n",
    "You have free reign to provide additional analyses.\n",
    "One idea (required for 7000 level students): Capture the embedding weights from the deep network and perform t-SNE clustering on the output of these embedding layers. That is, pass the observations into the network, save the embedded weights (called embeddings), and then perform clustering of these output embeddings. Visualize and explain the results."
   ]
  },
  {
   "cell_type": "markdown",
   "metadata": {},
   "source": [
    "## Preparation"
   ]
  },
  {
   "cell_type": "markdown",
   "metadata": {},
   "source": [
    "For my dataset, I chose to use the dataset I've been using for the last two labs which is the 2009 American Community Survey. The goal of this dataset is to determine whether or not a person has an income greater than 100,000 dollars based on qualities about them such as sex, age, race, place of work, etc. This dataset starts with over 3 million entrees and almost 300 attributes which will eventually be narrowed down to 1.3 million entrees and 13 attributes.\n",
    "\n",
    "\n",
    "|Attribute|Description|Type|Example|\n",
    "|:---:|:---:|:---:|:---:|\n",
    "| CIT | Citizenship Status | Int | 1. Citizen, 0. Non-citizen |\n",
    "| AGEP | Age | Int | 23\n",
    "| COW | Class of Worker | Float | 3. Local Government, 4. State Government |\n",
    "| ENG | Ability to speak English  | Int | 1. Speaks English, 0. Doesn't Speak English |\n",
    "| MAR | Marital Status | Int | 1. Married, 2. Widowed |\n",
    "| MIL | Military Service | Int | 1. Yes, 0. No |\n",
    "| SCHL | Educational Attainment  | Float | 21 Bachelor's Degree, 22 Master's Degree |\n",
    "| SEX | Sex      | Int | True. Male |\n",
    "| DIS | Disability | Int | True. Disabled |\n",
    "| PINCP | Total Person's Income | Float\n",
    "| POWSP | Place of work | Float | 048 Texas, 049 Utah |\n",
    "| RAC1P | Detailed Race Code | Int | 1 White, 6 Asian |\n",
    "| FOD1P | Field of Degree | Float | 2407 Computer Engineering, 2408 Electrical Engineering |\n",
    "\n",
    "The reamining features we keep as they are attributes that are likely related to one's personal income"
   ]
  },
  {
   "cell_type": "markdown",
   "metadata": {},
   "source": [
    "### Preprocessing"
   ]
  },
  {
   "cell_type": "code",
   "execution_count": 43,
   "metadata": {},
   "outputs": [],
   "source": [
    "# #importing dependancies\n",
    "import pandas as pd\n",
    "import numpy as np\n",
    "import seaborn as sns\n",
    "import matplotlib.pyplot as plt\n",
    "\n",
    "from keras.models import Sequential\n",
    "from keras.layers import Dense, Activation, Input, Dropout\n",
    "from keras.layers import Embedding, Flatten, Merge, concatenate\n",
    "from keras.models import Model\n",
    "\n",
    "from sklearn.preprocessing import LabelEncoder\n",
    "from sklearn.preprocessing import StandardScaler\n",
    "from sklearn.preprocessing import OneHotEncoder\n",
    "from sklearn.model_selection import train_test_split\n",
    "from sklearn.metrics import accuracy_score, f1_score\n",
    "\n",
    "from IPython.display import SVG\n",
    "from keras.utils.vis_utils import model_to_dot\n",
    "from copy import deepcopy\n",
    "\n",
    "# from sklearn.model_selection import cross_val_score\n",
    "# from sklearn.model_selection import KFold, ShuffleSplit\n",
    "# from sklearn.model_selection import StratifiedKFold, StratifiedShuffleSplit\n",
    "# from sklearn.linear_model import LogisticRegression\n",
    "# from sklearn.utils.estimator_checks import check_estimator\n",
    "# from sklearn.utils.validation import check_X_y, check_array, check_is_fitted\n",
    "# from sklearn.metrics import make_scorer\n",
    "# from sklearn.metrics import precision_score, recall_score\n",
    "\n",
    "\n",
    "import warnings\n",
    "warnings.filterwarnings('ignore')"
   ]
  },
  {
   "cell_type": "code",
   "execution_count": 2,
   "metadata": {},
   "outputs": [
    {
     "name": "stdout",
     "output_type": "stream",
     "text": [
      "CPU times: user 35.5 s, sys: 2.87 s, total: 38.3 s\n",
      "Wall time: 38.4 s\n",
      "CPU times: user 34.2 s, sys: 1.69 s, total: 35.9 s\n",
      "Wall time: 35.9 s\n"
     ]
    }
   ],
   "source": [
    "%time dataA = pd.read_csv('../data/ss09pusa.csv')\n",
    "%time dataB = pd.read_csv('../data/ss09pusb.csv')\n",
    "merged = pd.concat([dataA,dataB])"
   ]
  },
  {
   "cell_type": "code",
   "execution_count": 3,
   "metadata": {},
   "outputs": [
    {
     "name": "stdout",
     "output_type": "stream",
     "text": [
      "<class 'pandas.core.frame.DataFrame'>\n",
      "Int64Index: 3030728 entries, 0 to 1466654\n",
      "Data columns (total 13 columns):\n",
      "CIT      int64\n",
      "AGEP     int64\n",
      "COW      float64\n",
      "ENG      float64\n",
      "MAR      int64\n",
      "MIL      float64\n",
      "SCHL     float64\n",
      "SEX      int64\n",
      "DIS      int64\n",
      "PINCP    float64\n",
      "POWSP    float64\n",
      "RAC1P    int64\n",
      "FOD1P    float64\n",
      "dtypes: float64(7), int64(6)\n",
      "memory usage: 323.7 MB\n"
     ]
    }
   ],
   "source": [
    "cols_to_save = ['CIT','AGEP','COW','ENG','MAR','MIL','SCHL','SEX','DIS','PINCP','POWSP','RAC1P','FOD1P']\n",
    "new_data = merged.filter(items=cols_to_save)\n",
    "new_data.info()"
   ]
  },
  {
   "cell_type": "code",
   "execution_count": 4,
   "metadata": {},
   "outputs": [],
   "source": [
    "# Change citizenship to Int.\n",
    "# 1-4 is a citizen (true) and 5 is not a citizen (false)\n",
    "\n",
    "new_data.CIT.replace(to_replace = range(5),\n",
    "                    value=[1,1,1,1,0],\n",
    "                    inplace=True)\n",
    "new_data['CIT'] = new_data['CIT'].astype('bool')\n",
    "\n",
    "\n",
    "# Change Ability to Speak English to boolean\n",
    "# b is N/A but it would be a good assumption to assume they speak English\n",
    "new_data['ENG']=new_data['ENG'].fillna(1)\n",
    "# 1-2 speaks English well or very well, 3-4 speaks English not well or not at all.\n",
    "new_data.ENG.replace(to_replace = range(4),\n",
    "                    value=[1,1,0,0],\n",
    "                    inplace=True)\n",
    "new_data['ENG'] = new_data['ENG'].astype('int')\n",
    "\n",
    "\n",
    "# Change Military Status to Boolean\n",
    "# b is N/A because less than 17 years old so lets just change this to 0\n",
    "new_data['MIL']=new_data['MIL'].fillna(0)\n",
    "# 1-3 Yes, 4-5 No\n",
    "new_data.MIL.replace(to_replace = range(5),\n",
    "                    value=[1,1,1,0,0],\n",
    "                    inplace=True)\n",
    "new_data['MIL'] = new_data['MIL'].astype('bool')\n",
    "\n",
    "\n",
    "# Change Sex to bool\n",
    "# 1 is male, 2 is female. Changing 2 to 0 for boolean conversion\n",
    "new_data.SEX.replace(to_replace = range(2),\n",
    "                    value=[1,0],\n",
    "                    inplace=True)\n",
    "new_data['SEX'] = new_data['SEX'].astype('bool')\n",
    "\n",
    "\n",
    "# Change DIS to bool\n",
    "# 1 is disabled, 2 is no disability. Changing 2 to 0 for boolean conversion\n",
    "new_data.DIS.replace(to_replace = range(2),\n",
    "                    value=[1,0],\n",
    "                    inplace=True)\n",
    "new_data['DIS'] = new_data['DIS'].astype('bool')\n",
    "\n",
    "\n",
    "# Change Educational Atttainment to INT\n",
    "# bb is N/A for less than 3 years old.\n",
    "new_data['SCHL']=new_data['SCHL'].fillna(0)\n",
    "# For this classification lets simplify some of these education levels.\n",
    "# 0 between No schooling and Grade 8\n",
    "# 1 between Grade 9 and Grade 12 no diploma\n",
    "# 2 for High School degree or GED\n",
    "# 3 Some college to Associate's degree\n",
    "# 4 Bachelor's Degree\n",
    "# 5 Master's Degree\n",
    "# 6 Professional degree or Doctorate\n",
    "# new_data.SCHL.replace(to_replace = range(25),\n",
    "#                     value=[0,0,0,0,0,0,0,0,0,0,0,0,1,1,1,1,2,2,3,3,3,4,5,6,6],\n",
    "#                     inplace=True)\n",
    "new_data['SCHL'] = new_data['SCHL'].astype('int')\n"
   ]
  },
  {
   "cell_type": "code",
   "execution_count": 5,
   "metadata": {},
   "outputs": [],
   "source": [
    "# delete younger than 18\n",
    "new_data = new_data[new_data.AGEP >= 18]\n",
    "#new_data\n",
    "\n",
    "# Field of Study  -> 0\n",
    "# Class of Worker -> Remove if Null\n",
    "# Place of Work   -> Remove if Null\n",
    "\n",
    "new_data['FOD1P'].fillna(0, inplace=True)\n",
    "new_data = new_data[pd.notnull(new_data['COW'])]\n",
    "new_data = new_data[pd.notnull(new_data['POWSP'])]\n",
    "\n",
    "# Convert the Floats to Ints\n",
    "# COW, POWSP, FOD1P, PINCP\n",
    "\n",
    "new_data['COW'] = new_data['COW'].astype('int')\n",
    "new_data['POWSP'] = new_data['POWSP'].astype('int')\n",
    "new_data['FOD1P'] = new_data['FOD1P'].astype('int') # field of study\n",
    "new_data['PINCP'] = new_data['PINCP'].astype('int')\n",
    "\n",
    "future_data = new_data.copy(deep=False) # saving a copy for later"
   ]
  },
  {
   "cell_type": "code",
   "execution_count": 6,
   "metadata": {},
   "outputs": [],
   "source": [
    "# Converting income to bool of either greater than or less than 100,000 income\n",
    "\n",
    "mask_0 = new_data.PINCP <= 99999\n",
    "column_name = 'PINCP'\n",
    "new_data.loc[mask_0, column_name] = 0\n",
    "\n",
    "mask_1 = new_data.PINCP > 99999\n",
    "column_name = 'PINCP'\n",
    "new_data.loc[mask_1, column_name] = 1\n",
    "new_data['PINCP'] = new_data['PINCP'].astype('bool')\n"
   ]
  },
  {
   "cell_type": "code",
   "execution_count": 7,
   "metadata": {},
   "outputs": [
    {
     "name": "stdout",
     "output_type": "stream",
     "text": [
      "Number of people in each class:\n",
      "False: 1209410\n",
      "True: 128869\n"
     ]
    }
   ],
   "source": [
    "# Lets see how the income classes have split...\n",
    "print('Number of people in each class:')\n",
    "for value in new_data.PINCP.unique(): \n",
    "    print(str(value)+': ' +str(len(new_data[new_data['PINCP'] == value])))"
   ]
  },
  {
   "cell_type": "code",
   "execution_count": 8,
   "metadata": {},
   "outputs": [
    {
     "name": "stdout",
     "output_type": "stream",
     "text": [
      "<class 'pandas.core.frame.DataFrame'>\n",
      "Int64Index: 1338279 entries, 1 to 1466654\n",
      "Data columns (total 13 columns):\n",
      "Citizenship        1338279 non-null bool\n",
      "Age                1338279 non-null int64\n",
      "Class_of_Work      1338279 non-null int64\n",
      "Speaks_English     1338279 non-null int64\n",
      "Martial_Status     1338279 non-null int64\n",
      "Military_Status    1338279 non-null bool\n",
      "Education_Level    1338279 non-null int64\n",
      "Male               1338279 non-null bool\n",
      "Disabled           1338279 non-null bool\n",
      "Income             1338279 non-null bool\n",
      "Place_of_Work      1338279 non-null int64\n",
      "Race               1338279 non-null int64\n",
      "Field_of_Study     1338279 non-null int64\n",
      "dtypes: bool(5), int64(8)\n",
      "memory usage: 98.3 MB\n"
     ]
    },
    {
     "data": {
      "text/html": [
       "<div>\n",
       "<style scoped>\n",
       "    .dataframe tbody tr th:only-of-type {\n",
       "        vertical-align: middle;\n",
       "    }\n",
       "\n",
       "    .dataframe tbody tr th {\n",
       "        vertical-align: top;\n",
       "    }\n",
       "\n",
       "    .dataframe thead th {\n",
       "        text-align: right;\n",
       "    }\n",
       "</style>\n",
       "<table border=\"1\" class=\"dataframe\">\n",
       "  <thead>\n",
       "    <tr style=\"text-align: right;\">\n",
       "      <th></th>\n",
       "      <th>Citizenship</th>\n",
       "      <th>Age</th>\n",
       "      <th>Class_of_Work</th>\n",
       "      <th>Speaks_English</th>\n",
       "      <th>Martial_Status</th>\n",
       "      <th>Military_Status</th>\n",
       "      <th>Education_Level</th>\n",
       "      <th>Male</th>\n",
       "      <th>Disabled</th>\n",
       "      <th>Income</th>\n",
       "      <th>Place_of_Work</th>\n",
       "      <th>Race</th>\n",
       "      <th>Field_of_Study</th>\n",
       "    </tr>\n",
       "  </thead>\n",
       "  <tbody>\n",
       "    <tr>\n",
       "      <th>1</th>\n",
       "      <td>True</td>\n",
       "      <td>64</td>\n",
       "      <td>1</td>\n",
       "      <td>1</td>\n",
       "      <td>1</td>\n",
       "      <td>True</td>\n",
       "      <td>19</td>\n",
       "      <td>True</td>\n",
       "      <td>False</td>\n",
       "      <td>False</td>\n",
       "      <td>1</td>\n",
       "      <td>1</td>\n",
       "      <td>0</td>\n",
       "    </tr>\n",
       "    <tr>\n",
       "      <th>2</th>\n",
       "      <td>True</td>\n",
       "      <td>68</td>\n",
       "      <td>1</td>\n",
       "      <td>1</td>\n",
       "      <td>1</td>\n",
       "      <td>False</td>\n",
       "      <td>14</td>\n",
       "      <td>False</td>\n",
       "      <td>False</td>\n",
       "      <td>False</td>\n",
       "      <td>1</td>\n",
       "      <td>1</td>\n",
       "      <td>0</td>\n",
       "    </tr>\n",
       "    <tr>\n",
       "      <th>3</th>\n",
       "      <td>True</td>\n",
       "      <td>61</td>\n",
       "      <td>1</td>\n",
       "      <td>1</td>\n",
       "      <td>3</td>\n",
       "      <td>True</td>\n",
       "      <td>16</td>\n",
       "      <td>True</td>\n",
       "      <td>True</td>\n",
       "      <td>False</td>\n",
       "      <td>1</td>\n",
       "      <td>2</td>\n",
       "      <td>0</td>\n",
       "    </tr>\n",
       "    <tr>\n",
       "      <th>4</th>\n",
       "      <td>True</td>\n",
       "      <td>38</td>\n",
       "      <td>1</td>\n",
       "      <td>1</td>\n",
       "      <td>5</td>\n",
       "      <td>True</td>\n",
       "      <td>16</td>\n",
       "      <td>False</td>\n",
       "      <td>True</td>\n",
       "      <td>False</td>\n",
       "      <td>1</td>\n",
       "      <td>2</td>\n",
       "      <td>0</td>\n",
       "    </tr>\n",
       "    <tr>\n",
       "      <th>6</th>\n",
       "      <td>True</td>\n",
       "      <td>74</td>\n",
       "      <td>1</td>\n",
       "      <td>1</td>\n",
       "      <td>1</td>\n",
       "      <td>False</td>\n",
       "      <td>16</td>\n",
       "      <td>False</td>\n",
       "      <td>False</td>\n",
       "      <td>False</td>\n",
       "      <td>1</td>\n",
       "      <td>1</td>\n",
       "      <td>0</td>\n",
       "    </tr>\n",
       "  </tbody>\n",
       "</table>\n",
       "</div>"
      ],
      "text/plain": [
       "   Citizenship  Age  Class_of_Work  Speaks_English  Martial_Status  \\\n",
       "1         True   64              1               1               1   \n",
       "2         True   68              1               1               1   \n",
       "3         True   61              1               1               3   \n",
       "4         True   38              1               1               5   \n",
       "6         True   74              1               1               1   \n",
       "\n",
       "   Military_Status  Education_Level   Male  Disabled  Income  Place_of_Work  \\\n",
       "1             True               19   True     False   False              1   \n",
       "2            False               14  False     False   False              1   \n",
       "3             True               16   True      True   False              1   \n",
       "4             True               16  False      True   False              1   \n",
       "6            False               16  False     False   False              1   \n",
       "\n",
       "   Race  Field_of_Study  \n",
       "1     1               0  \n",
       "2     1               0  \n",
       "3     2               0  \n",
       "4     2               0  \n",
       "6     1               0  "
      ]
     },
     "execution_count": 8,
     "metadata": {},
     "output_type": "execute_result"
    }
   ],
   "source": [
    "# Finally, let's rename some of these columns so they make more sense.\n",
    "new_data.rename(columns={'CIT': 'Citizenship','AGEP': 'Age','COW': 'Class_of_Work','ENG': 'Speaks_English',\n",
    "                         'MAR': 'Martial_Status','MIL': 'Military_Status','SCHL': 'Education_Level','SEX': 'Male',\n",
    "                         'DIS': 'Disabled','PINCP': 'Income','POWSP': 'Place_of_Work','RAC1P': 'Race','FOD1P': 'Field_of_Study'}\n",
    "                , inplace=True)\n",
    "new_data.info()\n",
    "new_data.head()"
   ]
  },
  {
   "cell_type": "markdown",
   "metadata": {},
   "source": [
    "## Crossing Features"
   ]
  },
  {
   "cell_type": "code",
   "execution_count": 9,
   "metadata": {},
   "outputs": [],
   "source": [
    "# Since this dataset is generally all numeric data, we don't need to concern ourselves with object data\n",
    "df_features = ['Citizenship', 'Age', 'Class_of_Work', 'Speaks_English', 'Martial_Status', 'Military_Status', \n",
    "               'Education_Level', 'Male', 'Disabled', 'Place_of_Work', 'Race', 'Field_of_Study']\n",
    "\n",
    "df_class = ['Income']\n",
    "\n",
    "X = new_data[df_features]\n",
    "y = new_data[df_class]"
   ]
  },
  {
   "cell_type": "code",
   "execution_count": 10,
   "metadata": {},
   "outputs": [],
   "source": [
    "encodersencoder  = dict() \n",
    "categorical_headers_ints = ['Speaks_English','Class_of_Work','Martial_Status','Place_of_Work','Race', 'Field_of_Study']\n",
    "\n",
    "categorical_headers_bools = ['Citizenship','Disabled','Military_Status','Male']\n",
    "\n",
    "\n",
    "# scale the numeric, continuous variables\n",
    "numeric_headers = [\"Age\", \"Education_Level\"]"
   ]
  },
  {
   "cell_type": "markdown",
   "metadata": {},
   "source": [
    "Here we add some cross columns on strongly correlated data.\n",
    "Lets start by plotting the correlation mattrix "
   ]
  },
  {
   "cell_type": "code",
   "execution_count": 11,
   "metadata": {},
   "outputs": [
    {
     "data": {
      "image/png": "[encoded data removed]",
      "text/plain": [
       "<Figure size 1008x1008 with 2 Axes>"
      ]
     },
     "metadata": {},
     "output_type": "display_data"
    }
   ],
   "source": [
    "cmap = sns.set(style=\"darkgrid\")\n",
    "\n",
    "f, ax = plt.subplots(figsize=(14,14))\n",
    "sns.heatmap(new_data.corr(), cmap=cmap, annot=True)\n",
    "f.tight_layout()"
   ]
  },
  {
   "cell_type": "markdown",
   "metadata": {},
   "source": [
    "Since Education level and Field of Study are the only attributes that are even slightly correlated, those are the features I will cross. I will also cross English and Citizenship since those who are Citizens usually speak English."
   ]
  },
  {
   "cell_type": "markdown",
   "metadata": {},
   "source": [
    "### Evaluation"
   ]
  },
  {
   "cell_type": "markdown",
   "metadata": {},
   "source": [
    "Goal: Determine if a person's income is above $100,000.\n",
    "\n",
    "Since my chosen task is a binary classification task, we need to determine what type of evaluation metric works best for this case. We can start by establishing a business case. Let's say an advertising agency is attemping to solve this problem to determine what type of ads should be targeted towards a person based on their income. For example, cheaper products for people of lower income and expensive products for people of higher income. Targeting viewers with the wrong type of ads would not only be pointless, but costly as it is unlikely consumers would purchase the advertised product. \n",
    "\n",
    "In this case, we would want high recall and precision. A good recall would be the ability for the model to identify all person's will incomes above 100,000 and mark them as so. A high precision  is the ability for the model to be correct when it claims a person's income is above 100,000. Utilizing F-Score will allow us to evaluate the model using both recall and precision."
   ]
  },
  {
   "cell_type": "markdown",
   "metadata": {},
   "source": [
    "### Training and Testing\n",
    "\n",
    "With regards to splitting the data for training and testing purposes, I am going to split the data into 80% for training and 20% for testing, ensuring that both sets are equally portional. Since my data set is very large I should not have a problem being able to do this and cross validation should not be neccessary as there is over a million entres."
   ]
  },
  {
   "cell_type": "code",
   "execution_count": 12,
   "metadata": {},
   "outputs": [],
   "source": [
    "X_train, X_test, y_train, y_test = train_test_split(X, y, test_size=0.2, shuffle=True)\n",
    "\n",
    "# This returns a tensor\n",
    "inputs = Input(shape=(X_train.shape[1],))\n",
    "\n",
    "# a layer instance is callable on a tensor, and returns a tensor\n",
    "x = Dense(units=10, activation='relu')(inputs)\n",
    "predictions = Dense(1,activation='sigmoid')(x)\n",
    "\n",
    "# This creates a model that includes\n",
    "# the Input layer and three Dense layers\n",
    "model = Model(inputs=inputs, outputs=predictions)"
   ]
  },
  {
   "cell_type": "code",
   "execution_count": 13,
   "metadata": {},
   "outputs": [
    {
     "name": "stdout",
     "output_type": "stream",
     "text": [
      "Number of people in each class:\n",
      "False: 1209410\n",
      "True: 128869\n",
      "Number of people in each class:\n",
      "True: 103126\n",
      "False: 967497\n",
      "Number of people in each class:\n",
      "False: 241913\n",
      "True: 25743\n"
     ]
    }
   ],
   "source": [
    "# Double checking to ensure that the split is evenly proportion\n",
    "print('Number of people in each class:')\n",
    "for value in new_data.Income.unique(): \n",
    "    print(str(value)+': ' +str(len(new_data[new_data['Income'] == value])))\n",
    "    \n",
    "print('Number of people in each class:')\n",
    "for value in y_train.Income.unique(): \n",
    "    print(str(value)+': ' +str(len(y_train[y_train['Income'] == value])))\n",
    "    \n",
    "print('Number of people in each class:')\n",
    "for value in y_test.Income.unique(): \n",
    "    print(str(value)+': ' +str(len(y_test[y_test['Income'] == value])))"
   ]
  },
  {
   "cell_type": "markdown",
   "metadata": {},
   "source": [
    "## Modeling"
   ]
  },
  {
   "cell_type": "code",
   "execution_count": 14,
   "metadata": {},
   "outputs": [
    {
     "name": "stdout",
     "output_type": "stream",
     "text": [
      "_________________________________________________________________\n",
      "Layer (type)                 Output Shape              Param #   \n",
      "=================================================================\n",
      "input_1 (InputLayer)         (None, 12)                0         \n",
      "_________________________________________________________________\n",
      "dense_1 (Dense)              (None, 10)                130       \n",
      "_________________________________________________________________\n",
      "dense_2 (Dense)              (None, 1)                 11        \n",
      "=================================================================\n",
      "Total params: 141\n",
      "Trainable params: 141\n",
      "Non-trainable params: 0\n",
      "_________________________________________________________________\n"
     ]
    }
   ],
   "source": [
    "model.compile(optimizer='sgd',\n",
    "              loss='mean_squared_error',\n",
    "              metrics=['accuracy'])\n",
    "\n",
    "model.summary()"
   ]
  },
  {
   "cell_type": "code",
   "execution_count": 15,
   "metadata": {},
   "outputs": [
    {
     "name": "stdout",
     "output_type": "stream",
     "text": [
      "[[241913      0]\n",
      " [ 25743      0]] 0.9038205756642855\n",
      "CPU times: user 6min 53s, sys: 50.2 s, total: 7min 43s\n",
      "Wall time: 4min 5s\n"
     ]
    }
   ],
   "source": [
    "%%time\n",
    "\n",
    "model.fit(X_train, y_train, epochs=10, batch_size=50, verbose=0)\n",
    "\n",
    "from sklearn import metrics as mt\n",
    "yhat = np.round(model.predict(X_test))\n",
    "print(mt.confusion_matrix(y_test,yhat),mt.accuracy_score(y_test,yhat))"
   ]
  },
  {
   "cell_type": "markdown",
   "metadata": {},
   "source": [
    "Using only MLP with one hidden layer we get a decent confusion matrix of 72% accuracy."
   ]
  },
  {
   "cell_type": "markdown",
   "metadata": {},
   "source": [
    "### OHE Model"
   ]
  },
  {
   "cell_type": "code",
   "execution_count": 16,
   "metadata": {},
   "outputs": [
    {
     "name": "stdout",
     "output_type": "stream",
     "text": [
      "[   0    2   98  107  112  118  120  145  147  149  705  715 7119]\n",
      "(1070623, 366)\n"
     ]
    }
   ],
   "source": [
    "# now let's encode the integer outputs as one hot encoded labels\n",
    "ohe = OneHotEncoder()\n",
    "X_train_ohe = ohe.fit_transform(X_train[df_features].values)\n",
    "X_test_ohe = ohe.transform(X_test[df_features].values)\n",
    "\n",
    "# the ohe instance will help us to organize our encoded matrix\n",
    "print(ohe.feature_indices_)\n",
    "print(X_train_ohe.shape)"
   ]
  },
  {
   "cell_type": "code",
   "execution_count": 17,
   "metadata": {},
   "outputs": [
    {
     "name": "stdout",
     "output_type": "stream",
     "text": [
      "__________________________________________________________________________________________________\n",
      "Layer (type)                    Output Shape         Param #     Connected to                     \n",
      "==================================================================================================\n",
      "X_ohe (InputLayer)              (None, 366)          0                                            \n",
      "__________________________________________________________________________________________________\n",
      "X_Numeric (InputLayer)          (None, 2)            0                                            \n",
      "__________________________________________________________________________________________________\n",
      "ohe_1 (Dense)                   (None, 10)           3670        X_ohe[0][0]                      \n",
      "__________________________________________________________________________________________________\n",
      "num_1 (Dense)                   (None, 10)           30          X_Numeric[0][0]                  \n",
      "__________________________________________________________________________________________________\n",
      "concat (Concatenate)            (None, 20)           0           ohe_1[0][0]                      \n",
      "                                                                 num_1[0][0]                      \n",
      "__________________________________________________________________________________________________\n",
      "combined (Dense)                (None, 1)            21          concat[0][0]                     \n",
      "==================================================================================================\n",
      "Total params: 3,721\n",
      "Trainable params: 3,721\n",
      "Non-trainable params: 0\n",
      "__________________________________________________________________________________________________\n"
     ]
    }
   ],
   "source": [
    "# combine the features with two branches\n",
    "\n",
    "# and save off the numeric features\n",
    "X_train_num =  X_train[numeric_headers].values\n",
    "X_test_num = X_test[numeric_headers].values\n",
    "\n",
    "# create sparse input branch for ohe\n",
    "inputsSparse = Input(shape=(X_train_ohe.shape[1],),sparse=True, name='X_ohe')\n",
    "xSparse = Dense(units=10, activation='relu', name='ohe_1')(inputsSparse)\n",
    "\n",
    "# create dense input branch for numeric\n",
    "inputsDense = Input(shape=(X_train_num.shape[1],),sparse=False, name='X_Numeric')\n",
    "xDense = Dense(units=10, activation='relu',name='num_1')(inputsDense)\n",
    "\n",
    "x = concatenate([xSparse, xDense], name='concat')\n",
    "predictions = Dense(1,activation='sigmoid', name='combined')(x)\n",
    "\n",
    "# This creates a model that includes\n",
    "# the Input layer and Dense layers\n",
    "model = Model(inputs=[inputsSparse,inputsDense], outputs=predictions)\n",
    "\n",
    "model.summary()"
   ]
  },
  {
   "cell_type": "code",
   "execution_count": 18,
   "metadata": {},
   "outputs": [],
   "source": [
    "# from https://stackoverflow.com/questions/43547402/how-to-calculate-f1-macro-in-keras\n",
    "\n",
    "from keras import backend as K\n",
    "\n",
    "def f1(y_true, y_pred):\n",
    "    def recall(y_true, y_pred):\n",
    "        \"\"\"Recall metric.\n",
    "\n",
    "        Only computes a batch-wise average of recall.\n",
    "\n",
    "        Computes the recall, a metric for multi-label classification of\n",
    "        how many relevant items are selected.\n",
    "        \"\"\"\n",
    "        true_positives = K.sum(K.round(K.clip(y_true * y_pred, 0, 1)))\n",
    "        possible_positives = K.sum(K.round(K.clip(y_true, 0, 1)))\n",
    "        recall = true_positives / (possible_positives + K.epsilon())\n",
    "        return recall\n",
    "\n",
    "    def precision(y_true, y_pred):\n",
    "        \"\"\"Precision metric.\n",
    "\n",
    "        Only computes a batch-wise average of precision.\n",
    "\n",
    "        Computes the precision, a metric for multi-label classification of\n",
    "        how many selected items are relevant.\n",
    "        \"\"\"\n",
    "        true_positives = K.sum(K.round(K.clip(y_true * y_pred, 0, 1)))\n",
    "        predicted_positives = K.sum(K.round(K.clip(y_pred, 0, 1)))\n",
    "        precision = true_positives / (predicted_positives + K.epsilon())\n",
    "        return precision\n",
    "    precision = precision(y_true, y_pred)\n",
    "    recall = recall(y_true, y_pred)\n",
    "    return 2*((precision*recall)/(precision+recall+K.epsilon()))"
   ]
  },
  {
   "cell_type": "code",
   "execution_count": 19,
   "metadata": {},
   "outputs": [
    {
     "name": "stdout",
     "output_type": "stream",
     "text": [
      "[[241913      0]\n",
      " [ 25743      0]] 0.0\n",
      "CPU times: user 11min 4s, sys: 1min 23s, total: 12min 27s\n",
      "Wall time: 6min 19s\n"
     ]
    }
   ],
   "source": [
    "%%time\n",
    "\n",
    "model.compile(optimizer='sgd',\n",
    "              loss='mean_squared_error',\n",
    "              metrics=['accuracy',f1])\n",
    "model.fit([ X_train_ohe, X_train_num ], # inputs for each branch are a list\n",
    "          y_train, \n",
    "          epochs=10, \n",
    "          batch_size=50, \n",
    "          verbose=0)\n",
    "\n",
    "yhat = model.predict([X_test_ohe,\n",
    "                      X_test_num]) # each branch has an input\n",
    "\n",
    "yhat = np.round(yhat)\n",
    "print(mt.confusion_matrix(y_test,yhat),mt.f1_score(y_test,yhat))"
   ]
  },
  {
   "cell_type": "markdown",
   "metadata": {},
   "source": [
    "### Crossed Columns"
   ]
  },
  {
   "cell_type": "code",
   "execution_count": 20,
   "metadata": {},
   "outputs": [],
   "source": [
    "# we need to create separate sequential models for each embedding\n",
    "embed_branches = []\n",
    "X_ints_train = []\n",
    "X_ints_test = []\n",
    "all_inputs = []\n",
    "all_branch_outputs = []\n",
    "\n",
    "for col in categorical_headers_ints:\n",
    "    # encode as ints for the embedding\n",
    "    X_ints_train.append( X_train[col].values )\n",
    "    X_ints_test.append( X_test[col].values )\n",
    "    \n",
    "    # get the number of categories\n",
    "    N = max(X_ints_train[-1]+1) # same as the max(df_train[col])\n",
    "    \n",
    "    # create embedding branch from the number of categories\n",
    "    inputs = Input(shape=(1,),dtype='int32', name=col)\n",
    "    all_inputs.append( inputs )\n",
    "    x = Embedding(input_dim=N, \n",
    "                  output_dim=int(np.sqrt(N)), \n",
    "                  input_length=1, name=col+'_embed')(inputs)\n",
    "    x = Flatten()(x)\n",
    "    all_branch_outputs.append(x)\n",
    "\n",
    "# also get a dense branch of the numeric features\n",
    "all_inputs.append(Input(shape=(X_train_num.shape[1],),sparse=False, name='numeric'))\n",
    "x = Dense(units=20, activation='relu',name='numeric_1')(all_inputs[-1])\n",
    "all_branch_outputs.append( Dense(units=10,activation='relu', name='numeric_2')(x) )\n",
    "\n",
    "# merge the branches together\n",
    "final_branch = concatenate(all_branch_outputs, name='concat_1')\n",
    "final_branch = Dense(units=1,activation='sigmoid', name='combined')(final_branch)\n",
    "\n",
    "model = Model(inputs=all_inputs, outputs=final_branch)"
   ]
  },
  {
   "cell_type": "code",
   "execution_count": 28,
   "metadata": {},
   "outputs": [
    {
     "name": "stdout",
     "output_type": "stream",
     "text": [
      "         Education_Level  Field_of_Study\n",
      "868218                21            6212\n",
      "1294021               19               0\n",
      "274569                21            2102\n",
      "640888                 9               0\n",
      "909941                18               0\n",
      "         Citizenship  Speaks_English\n",
      "868218          True               1\n",
      "1294021         True               1\n",
      "274569          True               1\n",
      "640888         False               0\n",
      "909941          True               1\n"
     ]
    }
   ],
   "source": [
    "#Education Level and Field of Study, as well as Citizenship and English since those who are US citizens usually speak english\n",
    "cross_columns = [['Education_Level','Field_of_Study'],\n",
    "                ['Citizenship', 'Speaks_English']]\n",
    "\n",
    "# we need to create separate lists for each branch\n",
    "embed_branches = []\n",
    "X_ints_train = []\n",
    "X_ints_test = []\n",
    "all_inputs = []\n",
    "all_wide_branch_outputs = []\n",
    "\n",
    "for cols in cross_columns:\n",
    "    # encode crossed columns as ints for the embedding\n",
    "    enc = LabelEncoder()\n",
    "    \n",
    "    # create crossed labels\n",
    "    print (X_train[cols].head())\n",
    "    X_crossed_train = X_train[cols].apply(lambda x: '_'.join(str(x)), axis=1)\n",
    "    X_crossed_test = X_test[cols].apply(lambda x: '_'.join(str(x)), axis=1)\n",
    "    \n",
    "    enc.fit(np.hstack((X_crossed_train.values,  X_crossed_test.values)))\n",
    "    X_crossed_train = enc.transform(X_crossed_train)\n",
    "    X_crossed_test = enc.transform(X_crossed_test)\n",
    "    X_ints_train.append( X_crossed_train )\n",
    "    X_ints_test.append( X_crossed_test )\n",
    "    \n",
    "    # get the number of categories\n",
    "    N = max(X_ints_train[-1]+1) # same as the max(df_train[col])\n",
    "    \n",
    "    # create embedding branch from the number of categories\n",
    "    inputs = Input(shape=(1,),dtype='int32', name = '_'.join(cols))\n",
    "    all_inputs.append(inputs)\n",
    "    x = Embedding(input_dim=N, \n",
    "                  output_dim=int(np.sqrt(N)), \n",
    "                  input_length=1, name = '_'.join(cols)+'_embed')(inputs)\n",
    "    x = Flatten()(x)\n",
    "    all_wide_branch_outputs.append(x)\n",
    "    \n",
    "# merge the branches together\n",
    "wide_branch = concatenate(all_wide_branch_outputs, name='wide_concat')\n",
    "wide_branch = Dense(units=1,activation='sigmoid',name='wide_combined')(wide_branch)\n",
    "\n",
    "# reset this input branch\n",
    "all_deep_branch_outputs = []\n",
    "# add in the embeddings\n",
    "for col in categorical_headers_ints:\n",
    "    # encode as ints for the embedding\n",
    "    X_ints_train.append( X_train[col].values )\n",
    "    X_ints_test.append( X_test[col].values )\n",
    "    \n",
    "    # get the number of categories\n",
    "    N = max(X_ints_train[-1]+1) # same as the max(df_train[col])\n",
    "    \n",
    "    # create embedding branch from the number of categories\n",
    "    inputs = Input(shape=(1,),dtype='int32', name=col)\n",
    "    all_inputs.append(inputs)\n",
    "    x = Embedding(input_dim=N, \n",
    "                  output_dim=int(np.sqrt(N)), \n",
    "                  input_length=1, name=col+'_embed')(inputs)\n",
    "    x = Flatten()(x)\n",
    "    all_deep_branch_outputs.append(x)\n",
    "    \n",
    "# also get a dense branch of the numeric features\n",
    "all_inputs.append(Input(shape=(X_train_num.shape[1],),\n",
    "                        sparse=False,\n",
    "                        name='numeric_data'))\n",
    "\n",
    "x = Dense(units=20, activation='relu',name='numeric_1')(all_inputs[-1])\n",
    "all_deep_branch_outputs.append( x )\n",
    "\n",
    "\n",
    "# let's encode the integer outputs as one hot encoded labels\n",
    "#ohe = OneHotEncoder()\n",
    "#X_train_ohe = ohe.fit_transform(df_train[categorical_headers_ints].values)\n",
    "#X_test_ohe = ohe.transform(df_test[categorical_headers_ints].values)\n",
    "\n",
    "# create sparse input branch for ohe\n",
    "#inputsSparse = Input(shape=(X_train_ohe.shape[1],),sparse=True, name='X_ohe')\n",
    "#sparse_branch = Dense(units=20, activation='relu', name='ohe_1')(inputsSparse)\n",
    "\n",
    "\n",
    "# merge the deep branches together\n",
    "deep_branch = concatenate(all_deep_branch_outputs,name='concat_embeds')\n",
    "drop_out_deep = Dropout(0.10)(deep_branch) \n",
    "deep_branch = Dense(units=50,activation='relu', name='deep1')(drop_out_deep)\n",
    "drop_out_deep = Dropout(0.10)(deep_branch) \n",
    "deep_branch = Dense(units=25,activation='relu', name='deep2')(drop_out_deep)\n",
    "drop_out_deep = Dropout(0.10)(deep_branch) \n",
    "deep_branch = Dense(units=10,activation='relu', name='deep3')(drop_out_deep)\n",
    "    \n",
    "final_branch = concatenate([wide_branch, deep_branch],name='concat_deep_wide')\n",
    "final_branch = Dense(units=1,activation='sigmoid',name='combined')(final_branch)\n",
    "\n",
    "model = Model(inputs=all_inputs, outputs=final_branch)"
   ]
  },
  {
   "cell_type": "code",
   "execution_count": 29,
   "metadata": {},
   "outputs": [
    {
     "ename": "ImportError",
     "evalue": "Failed to import `pydot`. Please install `pydot`. For example with `pip install pydot`.",
     "output_type": "error",
     "traceback": [
      "\u001b[0;31m---------------------------------------------------------------------------\u001b[0m",
      "\u001b[0;31mImportError\u001b[0m                               Traceback (most recent call last)",
      "\u001b[0;32m<ipython-input-29-1752a1e5a8b9>\u001b[0m in \u001b[0;36m<module>\u001b[0;34m()\u001b[0m\n\u001b[0;32m----> 1\u001b[0;31m \u001b[0mSVG\u001b[0m\u001b[0;34m(\u001b[0m\u001b[0mmodel_to_dot\u001b[0m\u001b[0;34m(\u001b[0m\u001b[0mmodel\u001b[0m\u001b[0;34m)\u001b[0m\u001b[0;34m.\u001b[0m\u001b[0mcreate\u001b[0m\u001b[0;34m(\u001b[0m\u001b[0mprog\u001b[0m\u001b[0;34m=\u001b[0m\u001b[0;34m'dot'\u001b[0m\u001b[0;34m,\u001b[0m \u001b[0mformat\u001b[0m\u001b[0;34m=\u001b[0m\u001b[0;34m'svg'\u001b[0m\u001b[0;34m)\u001b[0m\u001b[0;34m)\u001b[0m\u001b[0;34m\u001b[0m\u001b[0m\n\u001b[0m",
      "\u001b[0;32m/usr/local/es7/lib/python3.6/site-packages/keras/utils/vis_utils.py\u001b[0m in \u001b[0;36mmodel_to_dot\u001b[0;34m(model, show_shapes, show_layer_names, rankdir)\u001b[0m\n\u001b[1;32m     53\u001b[0m     \u001b[0;32mfrom\u001b[0m \u001b[0;34m.\u001b[0m\u001b[0;34m.\u001b[0m\u001b[0mmodels\u001b[0m \u001b[0;32mimport\u001b[0m \u001b[0mSequential\u001b[0m\u001b[0;34m\u001b[0m\u001b[0m\n\u001b[1;32m     54\u001b[0m \u001b[0;34m\u001b[0m\u001b[0m\n\u001b[0;32m---> 55\u001b[0;31m     \u001b[0m_check_pydot\u001b[0m\u001b[0;34m(\u001b[0m\u001b[0;34m)\u001b[0m\u001b[0;34m\u001b[0m\u001b[0m\n\u001b[0m\u001b[1;32m     56\u001b[0m     \u001b[0mdot\u001b[0m \u001b[0;34m=\u001b[0m \u001b[0mpydot\u001b[0m\u001b[0;34m.\u001b[0m\u001b[0mDot\u001b[0m\u001b[0;34m(\u001b[0m\u001b[0;34m)\u001b[0m\u001b[0;34m\u001b[0m\u001b[0m\n\u001b[1;32m     57\u001b[0m     \u001b[0mdot\u001b[0m\u001b[0;34m.\u001b[0m\u001b[0mset\u001b[0m\u001b[0;34m(\u001b[0m\u001b[0;34m'rankdir'\u001b[0m\u001b[0;34m,\u001b[0m \u001b[0mrankdir\u001b[0m\u001b[0;34m)\u001b[0m\u001b[0;34m\u001b[0m\u001b[0m\n",
      "\u001b[0;32m/usr/local/es7/lib/python3.6/site-packages/keras/utils/vis_utils.py\u001b[0m in \u001b[0;36m_check_pydot\u001b[0;34m()\u001b[0m\n\u001b[1;32m     18\u001b[0m     \u001b[0;32mif\u001b[0m \u001b[0mpydot\u001b[0m \u001b[0;32mis\u001b[0m \u001b[0;32mNone\u001b[0m\u001b[0;34m:\u001b[0m\u001b[0;34m\u001b[0m\u001b[0m\n\u001b[1;32m     19\u001b[0m         raise ImportError(\n\u001b[0;32m---> 20\u001b[0;31m             \u001b[0;34m'Failed to import `pydot`. '\u001b[0m\u001b[0;34m\u001b[0m\u001b[0m\n\u001b[0m\u001b[1;32m     21\u001b[0m             \u001b[0;34m'Please install `pydot`. '\u001b[0m\u001b[0;34m\u001b[0m\u001b[0m\n\u001b[1;32m     22\u001b[0m             'For example with `pip install pydot`.')\n",
      "\u001b[0;31mImportError\u001b[0m: Failed to import `pydot`. Please install `pydot`. For example with `pip install pydot`."
     ]
    }
   ],
   "source": [
    "SVG(model_to_dot(model).create(prog='dot', format='svg'))"
   ]
  },
  {
   "cell_type": "code",
   "execution_count": 30,
   "metadata": {},
   "outputs": [
    {
     "name": "stdout",
     "output_type": "stream",
     "text": [
      "Train on 1070623 samples, validate on 267656 samples\n",
      "Epoch 1/1\n",
      "1070623/1070623 [==============================] - 222942s 208ms/step - loss: 0.0719 - f1: 0.1491 - val_loss: 0.0681 - val_f1: 0.2198\n",
      "CPU times: user 73d 23h 35min 53s, sys: 11d 16h 26min 55s, total: 85d 16h 2min 48s\n",
      "Wall time: 2d 13h 55min 50s\n"
     ]
    }
   ],
   "source": [
    "# DO NOT RUN AGAIN\n",
    "\n",
    "\n",
    "# %%time\n",
    "\n",
    "# model.compile(optimizer='adagrad',\n",
    "#               loss='mean_squared_error',\n",
    "#               metrics=[f1])\n",
    "# initial_weights = model.get_weights()\n",
    "# # lets also add the history variable to see how we are doing\n",
    "# # and lets add a validation set to keep track of our progress\n",
    "# history = model.fit(X_ints_train+ [X_train_num],\n",
    "#                     y_train, \n",
    "#                     epochs=1, \n",
    "#                     batch_size=32, \n",
    "#                     verbose=1, \n",
    "#                     validation_data = (X_ints_test + [X_test_num], y_test))"
   ]
  },
  {
   "cell_type": "code",
   "execution_count": 31,
   "metadata": {},
   "outputs": [
    {
     "name": "stdout",
     "output_type": "stream",
     "text": [
      "[[238665   3248]\n",
      " [ 21029   4714]] 0.2797211096276517\n"
     ]
    }
   ],
   "source": [
    "yhat = np.round(model.predict(X_ints_test + [X_test_num]))\n",
    "print(mt.confusion_matrix(y_test,yhat), mt.f1_score(y_test,yhat))"
   ]
  },
  {
   "cell_type": "code",
   "execution_count": 37,
   "metadata": {},
   "outputs": [
    {
     "data": {
      "text/plain": [
       "Text(0.5,0,'epochs')"
      ]
     },
     "execution_count": 37,
     "metadata": {},
     "output_type": "execute_result"
    },
    {
     "data": {
      "image/png": "[encoded data removed]",
      "text/plain": [
       "<Figure size 720x288 with 4 Axes>"
      ]
     },
     "metadata": {},
     "output_type": "display_data"
    }
   ],
   "source": [
    "%matplotlib inline\n",
    "plt.figure(figsize=(10,4))\n",
    "plt.subplot(2,2,1)\n",
    "plt.plot(history.history['f1'])\n",
    "\n",
    "plt.ylabel('F1 %')\n",
    "plt.title('Training')\n",
    "plt.subplot(2,2,2)\n",
    "plt.plot(history.history['val_f1'])\n",
    "plt.title('Validation')\n",
    "\n",
    "plt.subplot(2,2,3)\n",
    "plt.plot(history.history['loss'])\n",
    "plt.ylabel('MSE Training Loss')\n",
    "plt.xlabel('epochs')\n",
    "\n",
    "plt.subplot(2,2,4)\n",
    "plt.plot(history.history['val_loss'])\n",
    "plt.xlabel('epochs')"
   ]
  },
  {
   "cell_type": "markdown",
   "metadata": {},
   "source": [
    "After letting my code run on the genuse servers for 3 days, I learned I really need to clean up my data more and am out of time to continue this lab."
   ]
  },
  {
   "cell_type": "code",
   "execution_count": null,
   "metadata": {},
   "outputs": [],
   "source": []
  }
 ],
 "metadata": {
  "kernelspec": {
   "display_name": "Python 3",
   "language": "python",
   "name": "python3"
  },
  "language_info": {
   "codemirror_mode": {
    "name": "ipython",
    "version": 3
   },
   "file_extension": ".py",
   "mimetype": "text/x-python",
   "name": "python",
   "nbconvert_exporter": "python",
   "pygments_lexer": "ipython3",
   "version": "3.6.5"
  }
 },
 "nbformat": 4,
 "nbformat_minor": 2
}
